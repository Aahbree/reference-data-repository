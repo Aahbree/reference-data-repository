{
 "cells": [
  {
   "cell_type": "markdown",
   "id": "raising-arlington",
   "metadata": {},
   "source": [
    "# Reference Data Repository\n",
    "\n",
    "This notebook contains a few examples that demonstrate the main functionality of the **Reference Data Repository** package `refdata`."
   ]
  },
  {
   "cell_type": "markdown",
   "id": "little-dragon",
   "metadata": {},
   "source": [
    "## Local Data Store\n",
    "\n",
    "The local data store is responsible for maintaining information about downloaded datasets and providing access to the downloaded data. By default, all downloaded files are stored in a local folder under `$HOME/.refdata`. This behavior can be changed by either setting the environment variable *REFDATA_BASEDIR* to point to different directory on the file system or by providing a reference to the directory using the `basedir` parameter when creating an instance of the `LocalStore`.\n",
    "\n",
    "The local data store is associated with a (remote) data repository index file that contains the list of datasets that are available for download. By default, the [index file in this repository is used](https://github.com/VIDA-NYU/reference-data-repository/blob/master/data/index.json). You can change this behavior by setting the environment variable *REFDATA_URL*."
   ]
  },
  {
   "cell_type": "code",
   "execution_count": 1,
   "id": "dying-confusion",
   "metadata": {},
   "outputs": [],
   "source": [
    "# Create an instance of the local data store with default settings.\n",
    "\n",
    "from refdata.store import LocalStore\n",
    "\n",
    "refstore = LocalStore()"
   ]
  },
  {
   "cell_type": "code",
   "execution_count": 2,
   "id": "discrete-luxembourg",
   "metadata": {},
   "outputs": [
    {
     "name": "stdout",
     "output_type": "stream",
     "text": [
      "Cities in the U.S. (id=encyclopaedia_britannica:us_cities)\n",
      "Names of cities in the U.S. from the Encyclopaedia Britannica.\n",
      "\n",
      "REST Countries (id=restcountries.eu)\n",
      "Information about countries in the world available from the restcountries.eu project.\n",
      "\n",
      "C1 Street Suffix Abbreviations (id=usps:street_abbrev)\n",
      "Mapping of common street type abbreviations to a standard format.\n",
      "\n",
      "C2 Secondary Unit Designators (id=usps:secondary_unit_designators)\n",
      "no description available\n",
      "\n"
     ]
    }
   ],
   "source": [
    "# Print the identifier, name, and description for all\n",
    "# datasets that are listed in the associated repository\n",
    "# index.\n",
    "\n",
    "for dataset in refstore.repository().find():\n",
    "    print('{} (id={})'.format(dataset.name, dataset.identifier))\n",
    "    desc = dataset.description if dataset.description is not None else 'no description available'\n",
    "    print('{}\\n'.format(desc))"
   ]
  },
  {
   "cell_type": "markdown",
   "id": "identified-avatar",
   "metadata": {},
   "source": [
    "### Manage Downloaded Datasets\n",
    "\n",
    "The local datastore provides basic functionality to download datasets, get a list of all downloaded datasets, access metadata for these datasets, and remove a dataset from the local file system."
   ]
  },
  {
   "cell_type": "code",
   "execution_count": 3,
   "id": "modern-julian",
   "metadata": {},
   "outputs": [
    {
     "data": {
      "text/plain": [
       "('a023b7d5233a4d35a15a11b2ec8b9cfa',\n",
       " {'id': 'restcountries.eu',\n",
       "  'name': 'REST Countries',\n",
       "  'description': 'Information about countries in the world available from the restcountries.eu project.',\n",
       "  'url': 'https://raw.githubusercontent.com/VIDA-NYU/openclean-reference-data/master/data/restcountries.eu.json',\n",
       "  'checksum': '5893ebfad649533ac82a0b030a24efdd519f95a8b030a5ac9c7df37e85aad005',\n",
       "  'webpage': 'https://restcountries.eu/',\n",
       "  'schema': [{'id': 'name',\n",
       "    'name': 'Name',\n",
       "    'description': 'Country name',\n",
       "    'dtype': 'text'},\n",
       "   {'id': 'alpha2Code',\n",
       "    'name': 'Country Code (2-letters)',\n",
       "    'description': 'ISO 3166-1 2-letter country code',\n",
       "    'dtype': 'text'},\n",
       "   {'id': 'alpha3Code',\n",
       "    'name': 'Country Code (3-letters)',\n",
       "    'description': 'ISO 3166-1 3-letter country code',\n",
       "    'dtype': 'text'},\n",
       "   {'id': 'capital',\n",
       "    'name': 'Capital',\n",
       "    'description': 'Capital city',\n",
       "    'dtype': 'text'},\n",
       "   {'id': 'region',\n",
       "    'name': 'Region',\n",
       "    'description': 'World region',\n",
       "    'dtype': 'text'},\n",
       "   {'id': 'subregion',\n",
       "    'name': 'Sub-Region',\n",
       "    'description': 'Sub-region within the country region',\n",
       "    'dtype': 'text'}],\n",
       "  'format': {'type': 'json', 'parameters': {}}})"
      ]
     },
     "execution_count": 3,
     "metadata": {},
     "output_type": "execute_result"
    }
   ],
   "source": [
    "# Download the restcountries dataset\n",
    "\n",
    "refstore.download('restcountries.eu')"
   ]
  },
  {
   "cell_type": "code",
   "execution_count": 4,
   "id": "finite-analyst",
   "metadata": {},
   "outputs": [
    {
     "name": "stdout",
     "output_type": "stream",
     "text": [
      "Downloaded datasets:\n",
      "\n",
      "> REST Countries (id=restcountries.eu)\n",
      "> Cities in the U.S. (id=encyclopaedia_britannica:us_cities)\n"
     ]
    }
   ],
   "source": [
    "# List identifier nad names for datasets that have\n",
    "# been downloaded to the local store.\n",
    "\n",
    "print('Downloaded datasets:\\n')\n",
    "for dataset in refstore.list():\n",
    "    print('> {} (id={})'.format(dataset.name, dataset.identifier))"
   ]
  },
  {
   "cell_type": "code",
   "execution_count": 5,
   "id": "proper-europe",
   "metadata": {},
   "outputs": [
    {
     "name": "stdout",
     "output_type": "stream",
     "text": [
      "Columns:\n",
      "\n",
      "  Name (id=name)\n",
      "  Country Code (2-letters) (id=alpha2Code)\n",
      "  Country Code (3-letters) (id=alpha3Code)\n",
      "  Capital (id=capital)\n",
      "  Region (id=region)\n",
      "  Sub-Region (id=subregion)\n"
     ]
    }
   ],
   "source": [
    "# List identifier and names for columns (attributes)\n",
    "# in the restcountries dataset.\n",
    "\n",
    "print('Columns:\\n')\n",
    "for col in refstore.open('restcountries.eu').columns:\n",
    "    print('  {} (id={})'.format(col.name, col.identifier))"
   ]
  },
  {
   "cell_type": "code",
   "execution_count": 6,
   "id": "spread-vessel",
   "metadata": {},
   "outputs": [
    {
     "name": "stdout",
     "output_type": "stream",
     "text": [
      "{\n",
      "    \"id\": \"restcountries.eu\",\n",
      "    \"name\": \"REST Countries\",\n",
      "    \"description\": \"Information about countries in the world available from the restcountries.eu project.\",\n",
      "    \"url\": \"https://raw.githubusercontent.com/VIDA-NYU/openclean-reference-data/master/data/restcountries.eu.json\",\n",
      "    \"checksum\": \"5893ebfad649533ac82a0b030a24efdd519f95a8b030a5ac9c7df37e85aad005\",\n",
      "    \"webpage\": \"https://restcountries.eu/\",\n",
      "    \"schema\": [\n",
      "        {\n",
      "            \"id\": \"name\",\n",
      "            \"name\": \"Name\",\n",
      "            \"description\": \"Country name\",\n",
      "            \"dtype\": \"text\"\n",
      "        },\n",
      "        {\n",
      "            \"id\": \"alpha2Code\",\n",
      "            \"name\": \"Country Code (2-letters)\",\n",
      "            \"description\": \"ISO 3166-1 2-letter country code\",\n",
      "            \"dtype\": \"text\"\n",
      "        },\n",
      "        {\n",
      "            \"id\": \"alpha3Code\",\n",
      "            \"name\": \"Country Code (3-letters)\",\n",
      "            \"description\": \"ISO 3166-1 3-letter country code\",\n",
      "            \"dtype\": \"text\"\n",
      "        },\n",
      "        {\n",
      "            \"id\": \"capital\",\n",
      "            \"name\": \"Capital\",\n",
      "            \"description\": \"Capital city\",\n",
      "            \"dtype\": \"text\"\n",
      "        },\n",
      "        {\n",
      "            \"id\": \"region\",\n",
      "            \"name\": \"Region\",\n",
      "            \"description\": \"World region\",\n",
      "            \"dtype\": \"text\"\n",
      "        },\n",
      "        {\n",
      "            \"id\": \"subregion\",\n",
      "            \"name\": \"Sub-Region\",\n",
      "            \"description\": \"Sub-region within the country region\",\n",
      "            \"dtype\": \"text\"\n",
      "        }\n",
      "    ],\n",
      "    \"format\": {\n",
      "        \"type\": \"json\",\n",
      "        \"parameters\": {}\n",
      "    }\n",
      "}\n"
     ]
    }
   ],
   "source": [
    "# The full dataset metadata is also available as a\n",
    "# dictionary.\n",
    "\n",
    "import json\n",
    "\n",
    "print(json.dumps(refstore.open('restcountries.eu').to_dict(), indent=4))"
   ]
  },
  {
   "cell_type": "code",
   "execution_count": 7,
   "id": "aquatic-banana",
   "metadata": {},
   "outputs": [
    {
     "name": "stdout",
     "output_type": "stream",
     "text": [
      "[<refdata.base.DatasetDescriptor object at 0x7f89f7d12040>]\n"
     ]
    }
   ],
   "source": [
    "# Remove a downloaded dataset from the local file system.\n",
    "\n",
    "refstore.remove('restcountries.eu')\n",
    "\n",
    "print(refstore.list())"
   ]
  },
  {
   "cell_type": "markdown",
   "id": "impaired-digit",
   "metadata": {},
   "source": [
    "### Access Reference Data\n",
    "\n",
    "Data from downloaded datasets can be accessed in three different ways:\n",
    "\n",
    "- Set of distinct values\n",
    "- Lookup table generated from dataset columns\n",
    "- Pandas data frame"
   ]
  },
  {
   "cell_type": "markdown",
   "id": "descending-seafood",
   "metadata": {},
   "source": [
    "#### Set of Distinct Values\n",
    "\n",
    "Get set of distinct values for one or more columns of the datasets. If multiple columns are specified (as a list) the resulting set will contain tuples of distinct value combinations."
   ]
  },
  {
   "cell_type": "code",
   "execution_count": 8,
   "id": "focal-healthcare",
   "metadata": {},
   "outputs": [
    {
     "data": {
      "text/plain": [
       "{'Alabama',\n",
       " 'Alaska',\n",
       " 'Arizona',\n",
       " 'Arkansas',\n",
       " 'California',\n",
       " 'Colorado',\n",
       " 'Connecticut',\n",
       " 'Delaware',\n",
       " 'Florida',\n",
       " 'Georgia',\n",
       " 'Hawaii',\n",
       " 'Idaho',\n",
       " 'Illinois',\n",
       " 'Indiana',\n",
       " 'Iowa',\n",
       " 'Kansas',\n",
       " 'Kentucky',\n",
       " 'Louisiana',\n",
       " 'Maine',\n",
       " 'Maryland',\n",
       " 'Massachusetts',\n",
       " 'Michigan',\n",
       " 'Minnesota',\n",
       " 'Mississippi',\n",
       " 'Missouri',\n",
       " 'Montana',\n",
       " 'Nebraska',\n",
       " 'Nevada',\n",
       " 'New Hampshire',\n",
       " 'New Jersey',\n",
       " 'New Mexico',\n",
       " 'New York',\n",
       " 'North Carolina',\n",
       " 'North Dakota',\n",
       " 'Ohio',\n",
       " 'Oklahoma',\n",
       " 'Oregon',\n",
       " 'Pennsylvania',\n",
       " 'Rhode Island',\n",
       " 'South Carolina',\n",
       " 'South Dakota',\n",
       " 'Tennessee',\n",
       " 'Texas',\n",
       " 'Utah',\n",
       " 'Vermont',\n",
       " 'Virginia',\n",
       " 'Washington',\n",
       " 'West Virginia',\n",
       " 'Wisconsin',\n",
       " 'Wyoming'}"
      ]
     },
     "execution_count": 8,
     "metadata": {},
     "output_type": "execute_result"
    }
   ],
   "source": [
    "# Get list of distinct U.S. state names from the\n",
    "# Encyclopaedia Britannica dataset with U.S. city\n",
    "# names.\n",
    "\n",
    "# Instead of downloading and then opening the dataset\n",
    "# we can open it directly and set the auto_download flag\n",
    "# which will download the datast if it is no in the local\n",
    "# store.\n",
    "\n",
    "dataset = refstore.open('encyclopaedia_britannica:us_cities', auto_download=True)\n",
    "# Alternative shortcut:\n",
    "# refstore.distinct(key='encyclopaedia_britannica:us_cities', columns='state')\n",
    "\n",
    "dataset.distinct('state')"
   ]
  },
  {
   "cell_type": "markdown",
   "id": "dangerous-leave",
   "metadata": {},
   "source": [
    "#### Lookup Tables\n",
    "\n",
    "It is possible to directly generate a lookup table that maps values from one column (or multiple columns) to the values in another column(s). Lookup tables are represented as dictionaries."
   ]
  },
  {
   "cell_type": "code",
   "execution_count": 9,
   "id": "stuffed-colleague",
   "metadata": {},
   "outputs": [
    {
     "data": {
      "text/plain": [
       "'Canberra'"
      ]
     },
     "execution_count": 9,
     "metadata": {},
     "output_type": "execute_result"
    }
   ],
   "source": [
    "# Get a lookup table (dictionary) that maps the\n",
    "# ISO 3166-1 3-letter country code to the country's\n",
    "# captital city\n",
    "\n",
    "dataset = refstore.open('restcountries.eu', auto_download=True)\n",
    "# Alternative shortcut:\n",
    "# refstore.mapping(key='restcountries.eu', lhs='alpha3Code', rhs='capital')\n",
    "\n",
    "mapping = dataset.mapping(lhs='alpha3Code', rhs='capital')\n",
    "\n",
    "mapping['AUS']"
   ]
  },
  {
   "cell_type": "markdown",
   "id": "mechanical-catholic",
   "metadata": {},
   "source": [
    "#### Data Frame\n",
    "\n",
    "The full dataset (or a subset of the columns) can also be loaded as a pandas data frame."
   ]
  },
  {
   "cell_type": "code",
   "execution_count": 10,
   "id": "million-patch",
   "metadata": {},
   "outputs": [
    {
     "data": {
      "text/html": [
       "<div>\n",
       "<style scoped>\n",
       "    .dataframe tbody tr th:only-of-type {\n",
       "        vertical-align: middle;\n",
       "    }\n",
       "\n",
       "    .dataframe tbody tr th {\n",
       "        vertical-align: top;\n",
       "    }\n",
       "\n",
       "    .dataframe thead th {\n",
       "        text-align: right;\n",
       "    }\n",
       "</style>\n",
       "<table border=\"1\" class=\"dataframe\">\n",
       "  <thead>\n",
       "    <tr style=\"text-align: right;\">\n",
       "      <th></th>\n",
       "      <th>name</th>\n",
       "      <th>alpha3Code</th>\n",
       "      <th>capital</th>\n",
       "    </tr>\n",
       "  </thead>\n",
       "  <tbody>\n",
       "    <tr>\n",
       "      <th>0</th>\n",
       "      <td>Afghanistan</td>\n",
       "      <td>AFG</td>\n",
       "      <td>Kabul</td>\n",
       "    </tr>\n",
       "    <tr>\n",
       "      <th>1</th>\n",
       "      <td>Åland Islands</td>\n",
       "      <td>ALA</td>\n",
       "      <td>Mariehamn</td>\n",
       "    </tr>\n",
       "    <tr>\n",
       "      <th>2</th>\n",
       "      <td>Albania</td>\n",
       "      <td>ALB</td>\n",
       "      <td>Tirana</td>\n",
       "    </tr>\n",
       "    <tr>\n",
       "      <th>3</th>\n",
       "      <td>Algeria</td>\n",
       "      <td>DZA</td>\n",
       "      <td>Algiers</td>\n",
       "    </tr>\n",
       "    <tr>\n",
       "      <th>4</th>\n",
       "      <td>American Samoa</td>\n",
       "      <td>ASM</td>\n",
       "      <td>Pago Pago</td>\n",
       "    </tr>\n",
       "  </tbody>\n",
       "</table>\n",
       "</div>"
      ],
      "text/plain": [
       "             name alpha3Code    capital\n",
       "0     Afghanistan        AFG      Kabul\n",
       "1   Åland Islands        ALA  Mariehamn\n",
       "2         Albania        ALB     Tirana\n",
       "3         Algeria        DZA    Algiers\n",
       "4  American Samoa        ASM  Pago Pago"
      ]
     },
     "execution_count": 10,
     "metadata": {},
     "output_type": "execute_result"
    }
   ],
   "source": [
    "# Get data frame with country name, 3-letter country code,\n",
    "# and capital city.\n",
    "\n",
    "dataset = refstore.open('restcountries.eu', auto_download=True)\n",
    "# Alternative shortcut:\n",
    "# refstore.load('restcountries.eu', ['name', 'alpha3Code', 'capital'])\n",
    "\n",
    "df = dataset.data_frame(['name', 'alpha3Code', 'capital'])\n",
    "\n",
    "df.head()"
   ]
  }
 ],
 "metadata": {
  "kernelspec": {
   "display_name": "Python 3",
   "language": "python",
   "name": "python3"
  },
  "language_info": {
   "codemirror_mode": {
    "name": "ipython",
    "version": 3
   },
   "file_extension": ".py",
   "mimetype": "text/x-python",
   "name": "python",
   "nbconvert_exporter": "python",
   "pygments_lexer": "ipython3",
   "version": "3.9.1"
  }
 },
 "nbformat": 4,
 "nbformat_minor": 5
}
